{
 "cells": [
  {
   "cell_type": "markdown",
   "id": "5599a0e6",
   "metadata": {},
   "source": [
    "Note! \n",
    "This analysis shows only visualisation of known elements. \n",
    "We don't know correlation and don't handle missing data. \n",
    "We don't remove outliers (the data includes zeros...NaN...)\n",
    "To make this we can use some new data, updated data. After that we can predict some new features..."
   ]
  },
  {
   "cell_type": "markdown",
   "id": "a6b64302",
   "metadata": {},
   "source": [
    "1 step. \n",
    "Import libraries for our needs. \n",
    "\n",
    "numpy - to make arrays and some first Analysis \n",
    "pandas - to upload data and make info \n",
    "seaborn - \n",
    "matplotlib - to create plots, histograms"
   ]
  },
  {
   "cell_type": "code",
   "execution_count": 1,
   "id": "23384362",
   "metadata": {},
   "outputs": [],
   "source": [
    "import numpy as np\n",
    "import pandas as pd\n",
    "import seaborn as sns\n",
    "import matplotlib.pyplot as plt"
   ]
  },
  {
   "cell_type": "markdown",
   "id": "028f9c9a",
   "metadata": {},
   "source": [
    "2 step.\n",
    "read files. "
   ]
  },
  {
   "cell_type": "code",
   "execution_count": 2,
   "id": "9574ec9c",
   "metadata": {},
   "outputs": [],
   "source": [
    "df = pd.read_csv('/Users/osamacbook/Desktop/SWED/df_all.csv', delimiter=\";\")"
   ]
  },
  {
   "cell_type": "code",
   "execution_count": 3,
   "id": "c6e42e3f",
   "metadata": {},
   "outputs": [
    {
     "data": {
      "text/html": [
       "<div>\n",
       "<style scoped>\n",
       "    .dataframe tbody tr th:only-of-type {\n",
       "        vertical-align: middle;\n",
       "    }\n",
       "\n",
       "    .dataframe tbody tr th {\n",
       "        vertical-align: top;\n",
       "    }\n",
       "\n",
       "    .dataframe thead th {\n",
       "        text-align: right;\n",
       "    }\n",
       "</style>\n",
       "<table border=\"1\" class=\"dataframe\">\n",
       "  <thead>\n",
       "    <tr style=\"text-align: right;\">\n",
       "      <th></th>\n",
       "      <th>Agreement_Id</th>\n",
       "      <th>Customer_Id_all</th>\n",
       "      <th>Segment</th>\n",
       "      <th>Customer_Segment_Start_Date</th>\n",
       "      <th>Customer_Segment_End_Date</th>\n",
       "      <th>Balance_Amt</th>\n",
       "      <th>Customer_Id_prod</th>\n",
       "      <th>Customer_Role</th>\n",
       "      <th>Product</th>\n",
       "    </tr>\n",
       "  </thead>\n",
       "  <tbody>\n",
       "    <tr>\n",
       "      <th>0</th>\n",
       "      <td>1.0</td>\n",
       "      <td>143226</td>\n",
       "      <td>Segment B</td>\n",
       "      <td>31.01.2012</td>\n",
       "      <td>30.04.2015</td>\n",
       "      <td>26721.07</td>\n",
       "      <td>389808.0</td>\n",
       "      <td>Owner</td>\n",
       "      <td>Mortgage</td>\n",
       "    </tr>\n",
       "    <tr>\n",
       "      <th>1</th>\n",
       "      <td>2.0</td>\n",
       "      <td>188550</td>\n",
       "      <td>Segment D</td>\n",
       "      <td>31.01.2012</td>\n",
       "      <td>31.08.2015</td>\n",
       "      <td>35712.92</td>\n",
       "      <td>9437121.0</td>\n",
       "      <td>Owner</td>\n",
       "      <td>Mortgage</td>\n",
       "    </tr>\n",
       "    <tr>\n",
       "      <th>2</th>\n",
       "      <td>3.0</td>\n",
       "      <td>210159</td>\n",
       "      <td>Segment B</td>\n",
       "      <td>31.01.2012</td>\n",
       "      <td>NaN</td>\n",
       "      <td>20846.78</td>\n",
       "      <td>6424281.0</td>\n",
       "      <td>Owner</td>\n",
       "      <td>Mortgage</td>\n",
       "    </tr>\n",
       "    <tr>\n",
       "      <th>3</th>\n",
       "      <td>4.0</td>\n",
       "      <td>230310</td>\n",
       "      <td>Segment D</td>\n",
       "      <td>31.01.2012</td>\n",
       "      <td>NaN</td>\n",
       "      <td>24511.22</td>\n",
       "      <td>9254970.0</td>\n",
       "      <td>Owner</td>\n",
       "      <td>Mortgage</td>\n",
       "    </tr>\n",
       "    <tr>\n",
       "      <th>4</th>\n",
       "      <td>5.0</td>\n",
       "      <td>234144</td>\n",
       "      <td>Segment B</td>\n",
       "      <td>31.01.2012</td>\n",
       "      <td>31.01.2013</td>\n",
       "      <td>15833.19</td>\n",
       "      <td>11339892.0</td>\n",
       "      <td>Co-Applicant</td>\n",
       "      <td>Mortgage</td>\n",
       "    </tr>\n",
       "    <tr>\n",
       "      <th>...</th>\n",
       "      <td>...</td>\n",
       "      <td>...</td>\n",
       "      <td>...</td>\n",
       "      <td>...</td>\n",
       "      <td>...</td>\n",
       "      <td>...</td>\n",
       "      <td>...</td>\n",
       "      <td>...</td>\n",
       "      <td>...</td>\n",
       "    </tr>\n",
       "    <tr>\n",
       "      <th>345</th>\n",
       "      <td>NaN</td>\n",
       "      <td>5668227</td>\n",
       "      <td>Segment B</td>\n",
       "      <td>30.06.2017</td>\n",
       "      <td>NaN</td>\n",
       "      <td>NaN</td>\n",
       "      <td>NaN</td>\n",
       "      <td>NaN</td>\n",
       "      <td>NaN</td>\n",
       "    </tr>\n",
       "    <tr>\n",
       "      <th>346</th>\n",
       "      <td>NaN</td>\n",
       "      <td>6066675</td>\n",
       "      <td>Segment D</td>\n",
       "      <td>30.06.2017</td>\n",
       "      <td>NaN</td>\n",
       "      <td>NaN</td>\n",
       "      <td>NaN</td>\n",
       "      <td>NaN</td>\n",
       "      <td>NaN</td>\n",
       "    </tr>\n",
       "    <tr>\n",
       "      <th>347</th>\n",
       "      <td>NaN</td>\n",
       "      <td>6848649</td>\n",
       "      <td>Segment B</td>\n",
       "      <td>31.07.2017</td>\n",
       "      <td>NaN</td>\n",
       "      <td>NaN</td>\n",
       "      <td>NaN</td>\n",
       "      <td>NaN</td>\n",
       "      <td>NaN</td>\n",
       "    </tr>\n",
       "    <tr>\n",
       "      <th>348</th>\n",
       "      <td>NaN</td>\n",
       "      <td>9405018</td>\n",
       "      <td>Segment D</td>\n",
       "      <td>31.07.2017</td>\n",
       "      <td>NaN</td>\n",
       "      <td>NaN</td>\n",
       "      <td>NaN</td>\n",
       "      <td>NaN</td>\n",
       "      <td>NaN</td>\n",
       "    </tr>\n",
       "    <tr>\n",
       "      <th>349</th>\n",
       "      <td>NaN</td>\n",
       "      <td>8646993</td>\n",
       "      <td>Segment F</td>\n",
       "      <td>28.02.2017</td>\n",
       "      <td>NaN</td>\n",
       "      <td>NaN</td>\n",
       "      <td>NaN</td>\n",
       "      <td>NaN</td>\n",
       "      <td>NaN</td>\n",
       "    </tr>\n",
       "  </tbody>\n",
       "</table>\n",
       "<p>350 rows × 9 columns</p>\n",
       "</div>"
      ],
      "text/plain": [
       "     Agreement_Id  Customer_Id_all    Segment Customer_Segment_Start_Date  \\\n",
       "0             1.0           143226  Segment B                  31.01.2012   \n",
       "1             2.0           188550  Segment D                  31.01.2012   \n",
       "2             3.0           210159  Segment B                  31.01.2012   \n",
       "3             4.0           230310  Segment D                  31.01.2012   \n",
       "4             5.0           234144  Segment B                  31.01.2012   \n",
       "..            ...              ...        ...                         ...   \n",
       "345           NaN          5668227  Segment B                  30.06.2017   \n",
       "346           NaN          6066675  Segment D                  30.06.2017   \n",
       "347           NaN          6848649  Segment B                  31.07.2017   \n",
       "348           NaN          9405018  Segment D                  31.07.2017   \n",
       "349           NaN          8646993  Segment F                  28.02.2017   \n",
       "\n",
       "    Customer_Segment_End_Date  Balance_Amt  Customer_Id_prod Customer_Role  \\\n",
       "0                  30.04.2015     26721.07          389808.0         Owner   \n",
       "1                  31.08.2015     35712.92         9437121.0         Owner   \n",
       "2                         NaN     20846.78         6424281.0         Owner   \n",
       "3                         NaN     24511.22         9254970.0         Owner   \n",
       "4                  31.01.2013     15833.19        11339892.0  Co-Applicant   \n",
       "..                        ...          ...               ...           ...   \n",
       "345                       NaN          NaN               NaN           NaN   \n",
       "346                       NaN          NaN               NaN           NaN   \n",
       "347                       NaN          NaN               NaN           NaN   \n",
       "348                       NaN          NaN               NaN           NaN   \n",
       "349                       NaN          NaN               NaN           NaN   \n",
       "\n",
       "      Product  \n",
       "0    Mortgage  \n",
       "1    Mortgage  \n",
       "2    Mortgage  \n",
       "3    Mortgage  \n",
       "4    Mortgage  \n",
       "..        ...  \n",
       "345       NaN  \n",
       "346       NaN  \n",
       "347       NaN  \n",
       "348       NaN  \n",
       "349       NaN  \n",
       "\n",
       "[350 rows x 9 columns]"
      ]
     },
     "execution_count": 3,
     "metadata": {},
     "output_type": "execute_result"
    }
   ],
   "source": [
    "df"
   ]
  },
  {
   "cell_type": "markdown",
   "id": "b15feb29",
   "metadata": {},
   "source": [
    "3. \n",
    "See the column data types and non-missing values\n",
    "We can work with float better than the other data types. For our needs we need to know what types we have. "
   ]
  },
  {
   "cell_type": "code",
   "execution_count": 4,
   "id": "cafcb26e",
   "metadata": {
    "scrolled": true
   },
   "outputs": [
    {
     "name": "stdout",
     "output_type": "stream",
     "text": [
      "<class 'pandas.core.frame.DataFrame'>\n",
      "RangeIndex: 350 entries, 0 to 349\n",
      "Data columns (total 9 columns):\n",
      " #   Column                       Non-Null Count  Dtype  \n",
      "---  ------                       --------------  -----  \n",
      " 0   Agreement_Id                 157 non-null    float64\n",
      " 1   Customer_Id_all              350 non-null    int64  \n",
      " 2   Segment                      350 non-null    object \n",
      " 3   Customer_Segment_Start_Date  350 non-null    object \n",
      " 4   Customer_Segment_End_Date    157 non-null    object \n",
      " 5   Balance_Amt                  157 non-null    float64\n",
      " 6   Customer_Id_prod             192 non-null    float64\n",
      " 7   Customer_Role                192 non-null    object \n",
      " 8   Product                      158 non-null    object \n",
      "dtypes: float64(3), int64(1), object(5)\n",
      "memory usage: 24.7+ KB\n"
     ]
    }
   ],
   "source": [
    "df.info()"
   ]
  },
  {
   "cell_type": "markdown",
   "id": "1ded0fc7",
   "metadata": {},
   "source": [
    "4. this shows us the statistic of our float collums (numerical)"
   ]
  },
  {
   "cell_type": "code",
   "execution_count": 5,
   "id": "f0e1f13c",
   "metadata": {},
   "outputs": [
    {
     "data": {
      "text/html": [
       "<div>\n",
       "<style scoped>\n",
       "    .dataframe tbody tr th:only-of-type {\n",
       "        vertical-align: middle;\n",
       "    }\n",
       "\n",
       "    .dataframe tbody tr th {\n",
       "        vertical-align: top;\n",
       "    }\n",
       "\n",
       "    .dataframe thead th {\n",
       "        text-align: right;\n",
       "    }\n",
       "</style>\n",
       "<table border=\"1\" class=\"dataframe\">\n",
       "  <thead>\n",
       "    <tr style=\"text-align: right;\">\n",
       "      <th></th>\n",
       "      <th>Agreement_Id</th>\n",
       "      <th>Customer_Id_all</th>\n",
       "      <th>Balance_Amt</th>\n",
       "      <th>Customer_Id_prod</th>\n",
       "    </tr>\n",
       "  </thead>\n",
       "  <tbody>\n",
       "    <tr>\n",
       "      <th>count</th>\n",
       "      <td>157.000000</td>\n",
       "      <td>3.500000e+02</td>\n",
       "      <td>157.000000</td>\n",
       "      <td>1.920000e+02</td>\n",
       "    </tr>\n",
       "    <tr>\n",
       "      <th>mean</th>\n",
       "      <td>79.375796</td>\n",
       "      <td>7.436007e+06</td>\n",
       "      <td>21541.153057</td>\n",
       "      <td>7.141803e+06</td>\n",
       "    </tr>\n",
       "    <tr>\n",
       "      <th>std</th>\n",
       "      <td>45.874468</td>\n",
       "      <td>4.658885e+06</td>\n",
       "      <td>32435.434463</td>\n",
       "      <td>4.316656e+06</td>\n",
       "    </tr>\n",
       "    <tr>\n",
       "      <th>min</th>\n",
       "      <td>1.000000</td>\n",
       "      <td>1.432260e+05</td>\n",
       "      <td>46.740000</td>\n",
       "      <td>1.432260e+05</td>\n",
       "    </tr>\n",
       "    <tr>\n",
       "      <th>25%</th>\n",
       "      <td>40.000000</td>\n",
       "      <td>3.750345e+06</td>\n",
       "      <td>1346.790000</td>\n",
       "      <td>4.004042e+06</td>\n",
       "    </tr>\n",
       "    <tr>\n",
       "      <th>50%</th>\n",
       "      <td>79.000000</td>\n",
       "      <td>7.738664e+06</td>\n",
       "      <td>6064.950000</td>\n",
       "      <td>7.042154e+06</td>\n",
       "    </tr>\n",
       "    <tr>\n",
       "      <th>75%</th>\n",
       "      <td>119.000000</td>\n",
       "      <td>1.082928e+07</td>\n",
       "      <td>29167.420000</td>\n",
       "      <td>1.026501e+07</td>\n",
       "    </tr>\n",
       "    <tr>\n",
       "      <th>max</th>\n",
       "      <td>158.000000</td>\n",
       "      <td>1.876724e+07</td>\n",
       "      <td>194678.060000</td>\n",
       "      <td>1.876724e+07</td>\n",
       "    </tr>\n",
       "  </tbody>\n",
       "</table>\n",
       "</div>"
      ],
      "text/plain": [
       "       Agreement_Id  Customer_Id_all    Balance_Amt  Customer_Id_prod\n",
       "count    157.000000     3.500000e+02     157.000000      1.920000e+02\n",
       "mean      79.375796     7.436007e+06   21541.153057      7.141803e+06\n",
       "std       45.874468     4.658885e+06   32435.434463      4.316656e+06\n",
       "min        1.000000     1.432260e+05      46.740000      1.432260e+05\n",
       "25%       40.000000     3.750345e+06    1346.790000      4.004042e+06\n",
       "50%       79.000000     7.738664e+06    6064.950000      7.042154e+06\n",
       "75%      119.000000     1.082928e+07   29167.420000      1.026501e+07\n",
       "max      158.000000     1.876724e+07  194678.060000      1.876724e+07"
      ]
     },
     "execution_count": 5,
     "metadata": {},
     "output_type": "execute_result"
    }
   ],
   "source": [
    "df.describe()"
   ]
  },
  {
   "cell_type": "markdown",
   "id": "e9c1ab3f",
   "metadata": {},
   "source": [
    "5. Table shows Balance on Segments. Whitch segment is more valuable. \n",
    "As we can see that is Segment D."
   ]
  },
  {
   "cell_type": "code",
   "execution_count": 6,
   "id": "9efad5a0",
   "metadata": {},
   "outputs": [
    {
     "data": {
      "text/plain": [
       "Text(0.5, 1.0, 'Balance by Segments')"
      ]
     },
     "execution_count": 6,
     "metadata": {},
     "output_type": "execute_result"
    },
    {
     "data": {
      "image/png": "[encoded data removed]",
      "text/plain": [
       "<Figure size 1080x432 with 1 Axes>"
      ]
     },
     "metadata": {
      "needs_background": "light"
     },
     "output_type": "display_data"
    }
   ],
   "source": [
    "plt.subplots(figsize=(15, 6))\n",
    "plt.hist(df['Segment'].dropna(), bins = 50, edgecolor = 'g');\n",
    "plt.xlabel('Segment'); plt.ylabel('Balance_Amt'); \n",
    "plt.title('Balance by Segments')"
   ]
  },
  {
   "cell_type": "code",
   "execution_count": 17,
   "id": "1b271f12",
   "metadata": {},
   "outputs": [
    {
     "data": {
      "text/plain": [
       "Text(0.5, 1.0, 'id by Segments')"
      ]
     },
     "execution_count": 17,
     "metadata": {},
     "output_type": "execute_result"
    },
    {
     "data": {
      "image/png": "[encoded data removed]",
      "text/plain": [
       "<Figure size 1080x432 with 1 Axes>"
      ]
     },
     "metadata": {
      "needs_background": "light"
     },
     "output_type": "display_data"
    }
   ],
   "source": [
    "plt.subplots(figsize=(15, 6))\n",
    "plt.hist(df['Balance_Amt'].dropna(), bins = 100, edgecolor = 'g');\n",
    "plt.xlabel('Customer_Id_prod'); plt.ylabel('Agreement_Id'); \n",
    "plt.title('id by Segments')"
   ]
  }
 ],
 "metadata": {
  "kernelspec": {
   "display_name": "Python 3",
   "language": "python",
   "name": "python3"
  },
  "language_info": {
   "codemirror_mode": {
    "name": "ipython",
    "version": 3
   },
   "file_extension": ".py",
   "mimetype": "text/x-python",
   "name": "python",
   "nbconvert_exporter": "python",
   "pygments_lexer": "ipython3",
   "version": "3.8.8"
  }
 },
 "nbformat": 4,
 "nbformat_minor": 5
}
